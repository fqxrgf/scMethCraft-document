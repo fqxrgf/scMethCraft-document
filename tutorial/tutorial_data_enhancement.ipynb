{
 "cells": [
  {
   "cell_type": "markdown",
   "id": "f09adbe5",
   "metadata": {},
   "source": [
    "# Environment Setup and Library Import"
   ]
  },
  {
   "cell_type": "code",
   "execution_count": 1,
   "id": "af6ed01f",
   "metadata": {
    "ExecuteTime": {
     "end_time": "2025-05-31T11:09:47.635039Z",
     "start_time": "2025-05-31T11:09:44.887870Z"
    }
   },
   "outputs": [],
   "source": [
    "import scanpy as sc\n",
    "from scMethCraft.model.scmethcraft_model import *\n",
    "from scMethCraft.model.scmethcraft_trainning import *\n",
    "import scMethCraft.model.methyimp as mp\n",
    "from scMethCraft.model.utils_model import *\n",
    "from scMethCraft.function.embedding import *\n",
    "from scMethCraft.model.compute_pos import return_pos\n",
    "from scMethCraft.function.enhancement import *\n",
    "import torch"
   ]
  },
  {
   "cell_type": "markdown",
   "id": "843fbbdf",
   "metadata": {},
   "source": [
    "# Data Loading\n",
    "Load the raw methylation data from an AnnData file."
   ]
  },
  {
   "cell_type": "code",
   "execution_count": 2,
   "id": "6e782d31",
   "metadata": {
    "ExecuteTime": {
     "end_time": "2025-05-31T11:09:47.666574Z",
     "start_time": "2025-05-31T11:09:47.637296Z"
    }
   },
   "outputs": [],
   "source": [
    "input_path = f\"../project/sample_data/genome/\"\n",
    "raw_adata = sc.read(f\"{input_path}/adata.h5ad\")"
   ]
  },
  {
   "cell_type": "markdown",
   "id": "7f5a1ad8",
   "metadata": {},
   "source": [
    "# Parameter Configuration\n",
    "Set key parameters for the analysis pipeline."
   ]
  },
  {
   "cell_type": "code",
   "execution_count": 3,
   "id": "9fa42a0a",
   "metadata": {
    "ExecuteTime": {
     "end_time": "2025-05-31T11:09:47.671098Z",
     "start_time": "2025-05-31T11:09:47.668178Z"
    }
   },
   "outputs": [],
   "source": [
    "cell = raw_adata.shape[0]\n",
    "\n",
    "seq_length = 10000\n",
    "kmer_k = 8\n",
    "work_dir = './'\n",
    "device = \"cuda:2\"\n",
    "dataset = \"Test_dataset\"\n",
    "input_path = f\"../project/sample_data/genome/\""
   ]
  },
  {
   "cell_type": "markdown",
   "id": "994cdefa",
   "metadata": {},
   "source": [
    "# Data Preparation\n",
    "Load and prepare sequence data for model processing."
   ]
  },
  {
   "cell_type": "code",
   "execution_count": 4,
   "id": "e9f8a1d6",
   "metadata": {
    "ExecuteTime": {
     "end_time": "2025-05-31T11:10:08.333884Z",
     "start_time": "2025-05-31T11:09:47.672879Z"
    }
   },
   "outputs": [
    {
     "name": "stderr",
     "output_type": "stream",
     "text": [
      " UserWarning:/prog/cabins/sccasimp/methyimp/project/scMethCraft/model/scmethcraft_trainning.py:44: Creating a tensor from a list of numpy.ndarrays is extremely slow. Please consider converting the list to a single numpy.ndarray with numpy.array() before converting to a tensor. (Triggered internally at ../torch/csrc/utils/tensor_new.cpp:245.)\n"
     ]
    }
   ],
   "source": [
    "train_onehot,train_kmer,pos = load_seq(input_path,\"all_seqs.h5\",False,\"both\")\n",
    "train_pos = return_pos(pos)\n",
    "train_state = load_state(input_path,\"m_all.npy\",False)\n",
    "train_data = MethyDataset(train_onehot,train_kmer,train_state,train_pos)\n",
    "cell = train_state.shape[1]\n",
    "train_dataloader = torch.utils.data.DataLoader(train_data,batch_size=64,shuffle=True,num_workers = 10, pin_memory = True)\n",
    "test_dataloader = torch.utils.data.DataLoader(train_data,batch_size=64,shuffle=False,num_workers = 10, pin_memory = True)\n",
    "del train_onehot,train_kmer,train_state,train_pos"
   ]
  },
  {
   "cell_type": "markdown",
   "id": "a12f2014",
   "metadata": {},
   "source": [
    "# Model Initialization and Loading\n",
    "Initialize the scMethCraft model and load pre-trained weights."
   ]
  },
  {
   "cell_type": "code",
   "execution_count": 5,
   "id": "b85cd573",
   "metadata": {
    "ExecuteTime": {
     "end_time": "2025-05-31T11:10:09.340720Z",
     "start_time": "2025-05-31T11:10:08.335774Z"
    }
   },
   "outputs": [
    {
     "data": {
      "text/plain": [
       "<All keys matched successfully>"
      ]
     },
     "execution_count": 5,
     "metadata": {},
     "output_type": "execute_result"
    }
   ],
   "source": [
    "scMethCraft_part1 = Sequence_extraction(cell,K=kmer_k,genomic_seq_length = seq_length).to(device)\n",
    "scMethCraft_part2 = Similarity_weighting(cell,dropout_rate=0.5).to(device)\n",
    "modelpath = f\"../project/sample_data/output/\"\n",
    "scMethCraft_part1.load_state_dict(torch.load(f\"{modelpath}/scMethCraft_part1.pth\"))\n",
    "scMethCraft_part2.load_state_dict(torch.load(f\"{modelpath}/scMethCraft_part2.pth\"))"
   ]
  },
  {
   "cell_type": "markdown",
   "id": "eb7a6455",
   "metadata": {},
   "source": [
    "# Data Enhancement\n",
    "Generate enhanced methylation data using the trained model."
   ]
  },
  {
   "cell_type": "code",
   "execution_count": 6,
   "id": "0f97d346",
   "metadata": {
    "ExecuteTime": {
     "end_time": "2025-05-31T11:10:12.364892Z",
     "start_time": "2025-05-31T11:10:09.341978Z"
    }
   },
   "outputs": [],
   "source": [
    "adata = raw_adata.copy()\n",
    "adata.X = output_enhanced_data(scMethCraft_part1,scMethCraft_part2,train_dataloader,cell,device)"
   ]
  }
 ],
 "metadata": {
  "kernelspec": {
   "display_name": "methyimp",
   "language": "python",
   "name": "methyimp"
  },
  "language_info": {
   "codemirror_mode": {
    "name": "ipython",
    "version": 3
   },
   "file_extension": ".py",
   "mimetype": "text/x-python",
   "name": "python",
   "nbconvert_exporter": "python",
   "pygments_lexer": "ipython3",
   "version": "3.9.19"
  },
  "toc": {
   "base_numbering": 1,
   "nav_menu": {},
   "number_sections": true,
   "sideBar": true,
   "skip_h1_title": false,
   "title_cell": "Table of Contents",
   "title_sidebar": "Contents",
   "toc_cell": false,
   "toc_position": {},
   "toc_section_display": true,
   "toc_window_display": false
  },
  "varInspector": {
   "cols": {
    "lenName": 16,
    "lenType": 16,
    "lenVar": 40
   },
   "kernels_config": {
    "python": {
     "delete_cmd_postfix": "",
     "delete_cmd_prefix": "del ",
     "library": "var_list.py",
     "varRefreshCmd": "print(var_dic_list())"
    },
    "r": {
     "delete_cmd_postfix": ") ",
     "delete_cmd_prefix": "rm(",
     "library": "var_list.r",
     "varRefreshCmd": "cat(var_dic_list()) "
    }
   },
   "types_to_exclude": [
    "module",
    "function",
    "builtin_function_or_method",
    "instance",
    "_Feature"
   ],
   "window_display": false
  }
 },
 "nbformat": 4,
 "nbformat_minor": 5
}
