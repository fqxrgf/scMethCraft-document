{
 "cells": [
  {
   "cell_type": "markdown",
   "id": "f8a08dda",
   "metadata": {},
   "source": [
    "# Environment Setup and Library Import\n",
    "Import necessary modules for single-cell methylation analysis."
   ]
  },
  {
   "cell_type": "code",
   "execution_count": 1,
   "id": "af6ed01f",
   "metadata": {
    "ExecuteTime": {
     "end_time": "2025-06-03T12:21:59.876951Z",
     "start_time": "2025-06-03T12:21:57.223573Z"
    }
   },
   "outputs": [],
   "source": [
    "import scanpy as sc\n",
    "from scMethCraft.model.scmethcraft_model import *\n",
    "from scMethCraft.model.scmethcraft_trainning import *\n",
    "import scMethCraft.model.methyimp as mp\n",
    "from scMethCraft.function.embedding import *\n",
    "from scMethCraft.function.batch import *\n",
    "from scMethCraft.function.annotation import *\n",
    "import scipy"
   ]
  },
  {
   "cell_type": "markdown",
   "id": "a5782257",
   "metadata": {},
   "source": [
    "# Data Loading\n",
    "Load the batch intergrated data"
   ]
  },
  {
   "cell_type": "code",
   "execution_count": 2,
   "id": "6e782d31",
   "metadata": {
    "ExecuteTime": {
     "end_time": "2025-06-03T12:22:04.824399Z",
     "start_time": "2025-06-03T12:21:59.878848Z"
    }
   },
   "outputs": [],
   "source": [
    "adata = sc.read(\"/home/sccasimp/data/methyimp/dataset/allchr/mix_total/total_newmodel_0301.h5ad\")"
   ]
  },
  {
   "cell_type": "markdown",
   "id": "1d1217b3",
   "metadata": {},
   "source": [
    "# Cell type annotation"
   ]
  },
  {
   "cell_type": "code",
   "execution_count": 3,
   "id": "41ee23dd",
   "metadata": {
    "ExecuteTime": {
     "end_time": "2025-06-03T12:22:09.872961Z",
     "start_time": "2025-06-03T12:22:04.826086Z"
    }
   },
   "outputs": [
    {
     "name": "stderr",
     "output_type": "stream",
     "text": [
      " DataConversionWarning:/home/sccasimp/anaconda3/envs/methyimp/lib/python3.9/site-packages/sklearn/preprocessing/_label.py:153: A column-vector y was passed when a 1d array was expected. Please change the shape of y to (n_samples, ), for example using ravel().\n"
     ]
    }
   ],
   "source": [
    "train_index = adata.obs[\"batch\"] == \"batch1\"\n",
    "test_index = adata.obs[\"batch\"] != \"batch1\"\n",
    "\n",
    "predict = cell_annotation(adata,train_index,test_index,type_column = \"MajorType\")"
   ]
  },
  {
   "cell_type": "code",
   "execution_count": 4,
   "id": "2377db1f",
   "metadata": {
    "ExecuteTime": {
     "end_time": "2025-06-03T12:22:09.881817Z",
     "start_time": "2025-06-03T12:22:09.875109Z"
    }
   },
   "outputs": [
    {
     "data": {
      "text/plain": [
       "array(['Sst', 'L6b', 'Vip', ..., 'Sncg', 'L2/3-IT', 'L5-IT'], dtype=object)"
      ]
     },
     "execution_count": 4,
     "metadata": {},
     "output_type": "execute_result"
    }
   ],
   "source": [
    "predict"
   ]
  },
  {
   "cell_type": "code",
   "execution_count": null,
   "id": "e55c8491",
   "metadata": {},
   "outputs": [],
   "source": []
  }
 ],
 "metadata": {
  "kernelspec": {
   "display_name": "methyimp",
   "language": "python",
   "name": "methyimp"
  },
  "language_info": {
   "codemirror_mode": {
    "name": "ipython",
    "version": 3
   },
   "file_extension": ".py",
   "mimetype": "text/x-python",
   "name": "python",
   "nbconvert_exporter": "python",
   "pygments_lexer": "ipython3",
   "version": "3.9.19"
  },
  "toc": {
   "base_numbering": 1,
   "nav_menu": {},
   "number_sections": true,
   "sideBar": true,
   "skip_h1_title": false,
   "title_cell": "Table of Contents",
   "title_sidebar": "Contents",
   "toc_cell": false,
   "toc_position": {},
   "toc_section_display": true,
   "toc_window_display": false
  },
  "varInspector": {
   "cols": {
    "lenName": 16,
    "lenType": 16,
    "lenVar": 40
   },
   "kernels_config": {
    "python": {
     "delete_cmd_postfix": "",
     "delete_cmd_prefix": "del ",
     "library": "var_list.py",
     "varRefreshCmd": "print(var_dic_list())"
    },
    "r": {
     "delete_cmd_postfix": ") ",
     "delete_cmd_prefix": "rm(",
     "library": "var_list.r",
     "varRefreshCmd": "cat(var_dic_list()) "
    }
   },
   "types_to_exclude": [
    "module",
    "function",
    "builtin_function_or_method",
    "instance",
    "_Feature"
   ],
   "window_display": false
  }
 },
 "nbformat": 4,
 "nbformat_minor": 5
}
