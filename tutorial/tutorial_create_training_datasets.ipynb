{
 "cells": [
  {
   "cell_type": "markdown",
   "id": "c5d3f2f0",
   "metadata": {},
   "source": [
    "# Environment Setup and Library Import\n",
    "First, import the necessary modules and set up the Python environment."
   ]
  },
  {
   "cell_type": "code",
   "execution_count": 3,
   "id": "af6ed01f",
   "metadata": {
    "ExecuteTime": {
     "end_time": "2025-05-31T09:13:33.083564Z",
     "start_time": "2025-05-31T09:13:31.500454Z"
    }
   },
   "outputs": [],
   "source": [
    "from scMethCraft.preprocessing.create_count_matrix import *\n",
    "from scMethCraft.preprocessing.retrive_sequence import *"
   ]
  },
  {
   "cell_type": "markdown",
   "id": "c03ad9f3",
   "metadata": {},
   "source": [
    "Import two core modules from scMethCraft:  \n",
    "create_count_matrix: For creating count matrices  \n",
    "retrive_sequence: For retrieving genomic sequences"
   ]
  },
  {
   "cell_type": "markdown",
   "id": "c5b52b3f",
   "metadata": {},
   "source": [
    "# Loading Sample Metadata\n",
    "Read the sample metadata file."
   ]
  },
  {
   "cell_type": "code",
   "execution_count": 2,
   "id": "6e782d31",
   "metadata": {
    "ExecuteTime": {
     "end_time": "2025-05-26T14:49:23.316302Z",
     "start_time": "2025-05-26T14:49:23.305892Z"
    }
   },
   "outputs": [],
   "source": [
    "meta = pd.read_csv(\"../sample_data/meta.csv\",index_col = 0)"
   ]
  },
  {
   "cell_type": "markdown",
   "id": "9a7ac105",
   "metadata": {},
   "source": [
    "Use pandas to read the metadata file in CSV format  \n",
    "index_col=0 indicates using the first column as row index  \n",
    "File path is relative: \"../sample_data/meta.csv\""
   ]
  },
  {
   "cell_type": "markdown",
   "id": "3771fe27",
   "metadata": {},
   "source": [
    "# Creating Methylation Count Matrix\n",
    "Generate a methylation count matrix from BED files."
   ]
  },
  {
   "cell_type": "code",
   "execution_count": 3,
   "id": "d6184a5a",
   "metadata": {
    "ExecuteTime": {
     "end_time": "2025-05-26T14:49:28.661112Z",
     "start_time": "2025-05-26T14:49:23.318016Z"
    },
    "scrolled": true
   },
   "outputs": [
    {
     "name": "stdout",
     "output_type": "stream",
     "text": [
      "sample_cell3.tsv.gz processed\n",
      "sample_cell5.tsv.gz processed\n",
      "sample_cell1.tsv.gz processed\n",
      "sample_cell2.tsv.gz processed\n",
      "sample_cell4.tsv.gz processed\n"
     ]
    }
   ],
   "source": [
    "count_matrix = count_matrix(\"../sample_data/bed/\")"
   ]
  },
  {
   "cell_type": "markdown",
   "id": "7a5a28d0",
   "metadata": {},
   "source": [
    "Call the count_matrix function  \n",
    "Parameter is the directory path containing BED files  \n",
    "Results are stored in the count_matrix variable"
   ]
  },
  {
   "cell_type": "markdown",
   "id": "e3e0315a",
   "metadata": {},
   "source": [
    "# Integrating Metadata with Count Matrix\n",
    "Associate metadata information with the count matrix."
   ]
  },
  {
   "cell_type": "code",
   "execution_count": 4,
   "id": "95eba813",
   "metadata": {
    "ExecuteTime": {
     "end_time": "2025-05-26T14:49:28.668859Z",
     "start_time": "2025-05-26T14:49:28.663797Z"
    }
   },
   "outputs": [
    {
     "name": "stdout",
     "output_type": "stream",
     "text": [
      "Successfully matched meta information\n"
     ]
    }
   ],
   "source": [
    "assemble_meta(count_matrix,meta)"
   ]
  },
  {
   "cell_type": "markdown",
   "id": "ea1ec77d",
   "metadata": {
    "ExecuteTime": {
     "end_time": "2025-05-31T09:26:10.297056Z",
     "start_time": "2025-05-31T09:26:10.288905Z"
    }
   },
   "source": [
    "Call the assemble_meta function  \n",
    "Parameter 1: The count matrix generated in the previous step  \n",
    "Parameter 2: The loaded metadata DataFrame  \n",
    "This function will integrate metadata into the count matrix"
   ]
  },
  {
   "cell_type": "markdown",
   "id": "ed71c3ed",
   "metadata": {},
   "source": [
    "# Filter regions"
   ]
  },
  {
   "cell_type": "code",
   "execution_count": null,
   "id": "6934ef74",
   "metadata": {},
   "outputs": [],
   "source": [
    "count_matrix = filter_region(count_matrix)"
   ]
  },
  {
   "cell_type": "markdown",
   "id": "690ecbfc",
   "metadata": {},
   "source": [
    "# Retrieving Genomic Sequences\n",
    "Extract sequences of specific regions from the reference genome."
   ]
  },
  {
   "cell_type": "code",
   "execution_count": 5,
   "id": "3400bea1",
   "metadata": {
    "ExecuteTime": {
     "end_time": "2025-05-26T14:50:11.930400Z",
     "start_time": "2025-05-26T14:49:28.670310Z"
    },
    "scrolled": true
   },
   "outputs": [
    {
     "name": "stdout",
     "output_type": "stream",
     "text": [
      "successful writing bed file.\n",
      "successful writing sparse m.\n",
      "process 1000 peaks takes 2.3 s\n",
      "process 2000 peaks takes 4.5 s\n",
      "process 3000 peaks takes 6.7 s\n"
     ]
    },
    {
     "name": "stderr",
     "output_type": "stream",
     "text": [
      "100%|█████████████████████████████████████████████| 3/3 [00:29<00:00,  9.79s/it]\n"
     ]
    }
   ],
   "source": [
    "obtain_seq(\"/home/sccasimp/data/songzhuofan/hg38.fa\",filter_reigon(count_matrix),\"../sample_data/genome/\")"
   ]
  },
  {
   "cell_type": "markdown",
   "id": "9bb83cd9",
   "metadata": {},
   "source": [
    "Call the obtain_seq function with three parameters:  \n",
    "\n",
    "Reference genome file path (hg38.fa)  \n",
    "Filtered genomic regions (obtained by processing count matrix with filter_reigon)  \n",
    "Output directory path  \n",
    "\n",
    "This step extracts sequences corresponding to methylation sites from the reference genome"
   ]
  }
 ],
 "metadata": {
  "kernelspec": {
   "display_name": "Python 3",
   "language": "python",
   "name": "python3"
  },
  "language_info": {
   "codemirror_mode": {
    "name": "ipython",
    "version": 3
   },
   "file_extension": ".py",
   "mimetype": "text/x-python",
   "name": "python",
   "nbconvert_exporter": "python",
   "pygments_lexer": "ipython3",
   "version": "3.10.9"
  },
  "toc": {
   "base_numbering": 1,
   "nav_menu": {},
   "number_sections": true,
   "sideBar": true,
   "skip_h1_title": false,
   "title_cell": "Table of Contents",
   "title_sidebar": "Contents",
   "toc_cell": false,
   "toc_position": {},
   "toc_section_display": true,
   "toc_window_display": false
  },
  "varInspector": {
   "cols": {
    "lenName": 16,
    "lenType": 16,
    "lenVar": 40
   },
   "kernels_config": {
    "python": {
     "delete_cmd_postfix": "",
     "delete_cmd_prefix": "del ",
     "library": "var_list.py",
     "varRefreshCmd": "print(var_dic_list())"
    },
    "r": {
     "delete_cmd_postfix": ") ",
     "delete_cmd_prefix": "rm(",
     "library": "var_list.r",
     "varRefreshCmd": "cat(var_dic_list()) "
    }
   },
   "types_to_exclude": [
    "module",
    "function",
    "builtin_function_or_method",
    "instance",
    "_Feature"
   ],
   "window_display": false
  }
 },
 "nbformat": 4,
 "nbformat_minor": 5
}
