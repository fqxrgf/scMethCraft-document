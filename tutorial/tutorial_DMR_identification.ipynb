{
 "cells": [
  {
   "cell_type": "markdown",
   "id": "f8a08dda",
   "metadata": {},
   "source": [
    "# Environment Setup and Library Import\n",
    "Import necessary modules for single-cell methylation analysis."
   ]
  },
  {
   "cell_type": "code",
   "execution_count": 1,
   "id": "af6ed01f",
   "metadata": {
    "ExecuteTime": {
     "end_time": "2025-06-03T12:56:33.409690Z",
     "start_time": "2025-06-03T12:56:30.718086Z"
    }
   },
   "outputs": [],
   "source": [
    "import scanpy as sc\n",
    "from scMethCraft.model.scmethcraft_model import *\n",
    "from scMethCraft.model.scmethcraft_trainning import *\n",
    "import scMethCraft.model.methyimp as mp\n",
    "from scMethCraft.function.embedding import *\n",
    "from scMethCraft.function.batch import *\n",
    "from scMethCraft.function.annotation import *\n",
    "import scipy"
   ]
  },
  {
   "cell_type": "markdown",
   "id": "a5782257",
   "metadata": {},
   "source": [
    "# Data Loading\n",
    "Load the enhanced data"
   ]
  },
  {
   "cell_type": "code",
   "execution_count": 2,
   "id": "6e782d31",
   "metadata": {
    "ExecuteTime": {
     "end_time": "2025-06-03T12:56:35.290178Z",
     "start_time": "2025-06-03T12:56:33.411457Z"
    }
   },
   "outputs": [],
   "source": [
    "adata = sc.read(\"/home/sccasimp/data/methyimp/Baseline/model/allchr/GSE168066/GSE168066_newmodel_0327_0.2.h5ad\")\n",
    "legal_type = adata.obs[\"MajorType\"].value_counts().index[(adata.obs[\"MajorType\"].value_counts()>1)].astype(str)\n",
    "adata = adata[adata.obs[\"MajorType\"].isin(legal_type)]"
   ]
  },
  {
   "cell_type": "markdown",
   "id": "7751e83b",
   "metadata": {},
   "source": [
    "# Identify Hypo-DMRs"
   ]
  },
  {
   "cell_type": "code",
   "execution_count": null,
   "id": "e55c8491",
   "metadata": {
    "ExecuteTime": {
     "start_time": "2025-06-03T12:56:30.699Z"
    }
   },
   "outputs": [],
   "source": [
    "sc.tl.rank_genes_groups(adata,'MajorType',method = \"wilcoxon\")"
   ]
  }
 ],
 "metadata": {
  "kernelspec": {
   "display_name": "methyimp",
   "language": "python",
   "name": "methyimp"
  },
  "language_info": {
   "codemirror_mode": {
    "name": "ipython",
    "version": 3
   },
   "file_extension": ".py",
   "mimetype": "text/x-python",
   "name": "python",
   "nbconvert_exporter": "python",
   "pygments_lexer": "ipython3",
   "version": "3.9.19"
  },
  "toc": {
   "base_numbering": 1,
   "nav_menu": {},
   "number_sections": true,
   "sideBar": true,
   "skip_h1_title": false,
   "title_cell": "Table of Contents",
   "title_sidebar": "Contents",
   "toc_cell": false,
   "toc_position": {},
   "toc_section_display": true,
   "toc_window_display": false
  },
  "varInspector": {
   "cols": {
    "lenName": 16,
    "lenType": 16,
    "lenVar": 40
   },
   "kernels_config": {
    "python": {
     "delete_cmd_postfix": "",
     "delete_cmd_prefix": "del ",
     "library": "var_list.py",
     "varRefreshCmd": "print(var_dic_list())"
    },
    "r": {
     "delete_cmd_postfix": ") ",
     "delete_cmd_prefix": "rm(",
     "library": "var_list.r",
     "varRefreshCmd": "cat(var_dic_list()) "
    }
   },
   "types_to_exclude": [
    "module",
    "function",
    "builtin_function_or_method",
    "instance",
    "_Feature"
   ],
   "window_display": false
  }
 },
 "nbformat": 4,
 "nbformat_minor": 5
}
